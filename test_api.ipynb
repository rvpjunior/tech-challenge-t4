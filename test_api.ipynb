{
 "cells": [
  {
   "cell_type": "code",
   "execution_count": null,
   "metadata": {},
   "outputs": [],
   "source": [
    "import requests\n",
    "import random\n",
    "from datetime import datetime, timedelta\n",
    "import pandas as pd"
   ]
  },
  {
   "cell_type": "code",
   "execution_count": 15,
   "metadata": {},
   "outputs": [
    {
     "data": {
      "text/plain": [
       "['2013-07-12',\n",
       " '2013-09-02',\n",
       " '2012-08-09',\n",
       " '2012-10-24',\n",
       " '2011-07-13',\n",
       " '2010-07-22',\n",
       " '2019-01-22',\n",
       " '2015-04-08',\n",
       " '2018-01-03',\n",
       " '2016-11-28',\n",
       " '2013-11-26',\n",
       " '2015-01-13',\n",
       " '2014-02-10',\n",
       " '2015-04-29',\n",
       " '2010-04-29']"
      ]
     },
     "execution_count": 15,
     "metadata": {},
     "output_type": "execute_result"
    }
   ],
   "source": [
    "# Generate random dates for testing\n",
    "start_date = datetime(2010, 1, 1)\n",
    "end_date = datetime(2024, 12, 31)\n",
    "date_tests = []\n",
    "\n",
    "while len(date_tests) < 15:\n",
    "    random_date = start_date + timedelta(days=random.randint(0, (end_date - start_date).days))\n",
    "    if random_date.weekday() < 5:  # Monday to Friday are 0-4\n",
    "        date_tests.append(random_date.strftime('%Y-%m-%d'))\n",
    "\n",
    "date_tests"
   ]
  },
  {
   "cell_type": "code",
   "execution_count": null,
   "metadata": {},
   "outputs": [
    {
     "data": {
      "text/plain": [
       "[22.826265335083008,\n",
       " 21.454792022705078,\n",
       " 16.129493713378906,\n",
       " 17.224336624145508,\n",
       " 13.274055480957031,\n",
       " 11.705143928527832,\n",
       " 54.841697692871094,\n",
       " 27.460172653198242,\n",
       " 52.95281219482422,\n",
       " 39.27250671386719,\n",
       " 25.999860763549805,\n",
       " 25.355812072753906,\n",
       " 29.105066299438477,\n",
       " 28.483688354492188,\n",
       " 13.52993392944336]"
      ]
     },
     "execution_count": 16,
     "metadata": {},
     "output_type": "execute_result"
    }
   ],
   "source": [
    "predicted_close_price = []\n",
    "\n",
    "for date in date_tests:\n",
    "    response = requests.post(f\"http://localhost:5000/api/predict\", json={\"date\": date})\n",
    "    predicted_close_price.append(response.json().get(\"predicted_close_price\"))\n",
    "\n",
    "predicted_close_price"
   ]
  },
  {
   "cell_type": "code",
   "execution_count": 20,
   "metadata": {},
   "outputs": [
    {
     "name": "stdout",
     "output_type": "stream",
     "text": [
      "          Date  Actual Close  Predicted Close  Difference\n",
      "0   2013-07-12     23.014669        22.826265    0.188404\n",
      "1   2012-08-09     16.016764        16.129494    0.112730\n",
      "2   2012-10-24     16.888227        17.224337    0.336109\n",
      "3   2011-07-13     13.421317        13.274055    0.147262\n",
      "4   2010-07-22     12.088560        11.705144    0.383416\n",
      "5   2019-01-22     53.736698        54.841698    1.105000\n",
      "6   2015-04-08     27.342878        27.460173    0.117294\n",
      "7   2018-01-03     54.378876        52.952812    1.426064\n",
      "8   2016-11-28     39.147591        39.272507    0.124916\n",
      "9   2013-11-26     26.391068        25.999861    0.391207\n",
      "10  2015-01-13     24.999374        25.355812    0.356438\n",
      "11  2014-02-10     29.246582        29.105066    0.141516\n",
      "12  2015-04-29     27.968115        28.483688    0.515574\n",
      "13  2010-04-29     13.265225        13.529934    0.264709\n"
     ]
    }
   ],
   "source": [
    "\n",
    "# Load the CSV file into a dataframe\n",
    "csv_file_path = 'data_GOOGL_2010-2024.csv'\n",
    "df = pd.read_csv(csv_file_path)\n",
    "\n",
    "# Convert the 'Date' column to datetime format\n",
    "df['Date'] = pd.to_datetime(df['Date'])\n",
    "\n",
    "# Filter the dataframe for the dates in date_tests\n",
    "filtered_df = df[df['Date'].isin(pd.to_datetime(date_tests))]\n",
    "\n",
    "# Compare the close price with the predicted close price\n",
    "comparison = []\n",
    "for date, predicted in zip(date_tests, predicted_close_price):\n",
    "    actual_close = filtered_df.loc[filtered_df['Date'] == date, 'Close'].values\n",
    "    if actual_close.size > 0:\n",
    "        difference = abs(actual_close[0] - predicted)\n",
    "        comparison.append((date, actual_close[0], predicted, difference))\n",
    "\n",
    "comparison_df = pd.DataFrame(comparison, columns=['Date', 'Actual Close', 'Predicted Close', 'Difference'])\n",
    "print(comparison_df)"
   ]
  }
 ],
 "metadata": {
  "kernelspec": {
   "display_name": "venv",
   "language": "python",
   "name": "python3"
  },
  "language_info": {
   "codemirror_mode": {
    "name": "ipython",
    "version": 3
   },
   "file_extension": ".py",
   "mimetype": "text/x-python",
   "name": "python",
   "nbconvert_exporter": "python",
   "pygments_lexer": "ipython3",
   "version": "3.12.6"
  }
 },
 "nbformat": 4,
 "nbformat_minor": 2
}
